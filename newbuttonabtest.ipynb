{
 "cells": [
  {
   "cell_type": "code",
   "execution_count": 60,
   "id": "415f141b-799f-4e9a-a53c-11eaec209713",
   "metadata": {},
   "outputs": [],
   "source": [
    "# A/B Тестирование: Новый цвет кнопки на главной странице Яндекса\n",
    "# Цель: Проверить, увеличивает ли новая кнопка (группа B) конверсию пользователей по сравнению с текущей (группа A)\n",
    "\n",
    "import numpy as np\n",
    "import pandas as pd\n",
    "import matplotlib.pyplot as plt\n",
    "from scipy import stats\n",
    "import seaborn as sns\n"
   ]
  },
  {
   "cell_type": "code",
   "execution_count": 91,
   "id": "883c6bd9-6fa7-4df8-8eaa-d61f93bd70cd",
   "metadata": {},
   "outputs": [
    {
     "data": {
      "text/html": [
       "<div>\n",
       "<style scoped>\n",
       "    .dataframe tbody tr th:only-of-type {\n",
       "        vertical-align: middle;\n",
       "    }\n",
       "\n",
       "    .dataframe tbody tr th {\n",
       "        vertical-align: top;\n",
       "    }\n",
       "\n",
       "    .dataframe thead th {\n",
       "        text-align: right;\n",
       "    }\n",
       "</style>\n",
       "<table border=\"1\" class=\"dataframe\">\n",
       "  <thead>\n",
       "    <tr style=\"text-align: right;\">\n",
       "      <th></th>\n",
       "      <th>group</th>\n",
       "      <th>click</th>\n",
       "    </tr>\n",
       "  </thead>\n",
       "  <tbody>\n",
       "    <tr>\n",
       "      <th>0</th>\n",
       "      <td>A</td>\n",
       "      <td>0</td>\n",
       "    </tr>\n",
       "    <tr>\n",
       "      <th>1</th>\n",
       "      <td>A</td>\n",
       "      <td>0</td>\n",
       "    </tr>\n",
       "    <tr>\n",
       "      <th>2</th>\n",
       "      <td>A</td>\n",
       "      <td>0</td>\n",
       "    </tr>\n",
       "    <tr>\n",
       "      <th>3</th>\n",
       "      <td>A</td>\n",
       "      <td>0</td>\n",
       "    </tr>\n",
       "    <tr>\n",
       "      <th>4</th>\n",
       "      <td>A</td>\n",
       "      <td>0</td>\n",
       "    </tr>\n",
       "    <tr>\n",
       "      <th>5</th>\n",
       "      <td>A</td>\n",
       "      <td>0</td>\n",
       "    </tr>\n",
       "    <tr>\n",
       "      <th>6</th>\n",
       "      <td>A</td>\n",
       "      <td>0</td>\n",
       "    </tr>\n",
       "    <tr>\n",
       "      <th>7</th>\n",
       "      <td>A</td>\n",
       "      <td>0</td>\n",
       "    </tr>\n",
       "    <tr>\n",
       "      <th>8</th>\n",
       "      <td>A</td>\n",
       "      <td>0</td>\n",
       "    </tr>\n",
       "    <tr>\n",
       "      <th>9</th>\n",
       "      <td>A</td>\n",
       "      <td>0</td>\n",
       "    </tr>\n",
       "    <tr>\n",
       "      <th>10</th>\n",
       "      <td>A</td>\n",
       "      <td>0</td>\n",
       "    </tr>\n",
       "    <tr>\n",
       "      <th>11</th>\n",
       "      <td>A</td>\n",
       "      <td>0</td>\n",
       "    </tr>\n",
       "  </tbody>\n",
       "</table>\n",
       "</div>"
      ],
      "text/plain": [
       "   group  click\n",
       "0      A      0\n",
       "1      A      0\n",
       "2      A      0\n",
       "3      A      0\n",
       "4      A      0\n",
       "5      A      0\n",
       "6      A      0\n",
       "7      A      0\n",
       "8      A      0\n",
       "9      A      0\n",
       "10     A      0\n",
       "11     A      0"
      ]
     },
     "execution_count": 91,
     "metadata": {},
     "output_type": "execute_result"
    }
   ],
   "source": [
    "# 1. Генерация данных\n",
    "\n",
    "# Допустим, у нас есть 10 000 пользователей: 5000 в каждой группе\n",
    "n_A = 5000  # Группа A — старая кнопка\n",
    "n_B = 5000  # Группа B — новая кнопка\n",
    "\n",
    "# Пусть в группе A конверсия = 5% (люди кликнули по кнопке)\n",
    "p_A = 0.05\n",
    "# В группе B мы хотим проверить, улучшится ли конверсия. Пусть она чуть выше — 6.5%\n",
    "p_B = 0.065\n",
    "\n",
    "# Сгенерируем, кто кликнул: 1 — клик, 0 — нет\n",
    "clicks_A = np.random.binomial(1, p_A, n_A)\n",
    "clicks_B = np.random.binomial(1, p_B, n_B)\n",
    "\n",
    "\n",
    "# Объединим в DataFrame\n",
    "data = pd.DataFrame({\n",
    "    'group': ['A'] * n_A + ['B'] * n_B,\n",
    "    'click': np.concatenate([clicks_A, clicks_B])\n",
    "})\n",
    "data.head(12)"
   ]
  },
  {
   "cell_type": "code",
   "execution_count": 64,
   "id": "7c7b1a25-d7c0-4bc0-ba3a-5e2a692d2a4f",
   "metadata": {},
   "outputs": [
    {
     "name": "stdout",
     "output_type": "stream",
     "text": [
      "Размеры групп:\n",
      "group\n",
      "A    5000\n",
      "B    5000\n",
      "dtype: int64\n",
      "\n",
      "Конверсии в группах:\n",
      "group\n",
      "A    0.0518\n",
      "B    0.0598\n",
      "Name: click, dtype: float64\n"
     ]
    }
   ],
   "source": [
    "# 2. Первичный анализ\n",
    "\n",
    "print(\"Размеры групп:\")\n",
    "print(data.groupby('group').size())\n",
    "\n",
    "print(\"\\nКонверсии в группах:\")\n",
    "print(data.groupby('group')['click'].mean())"
   ]
  },
  {
   "cell_type": "code",
   "execution_count": 66,
   "id": "ae86684b-cbc6-4569-97c0-1d0f75048789",
   "metadata": {},
   "outputs": [
    {
     "name": "stderr",
     "output_type": "stream",
     "text": [
      "/var/folders/cf/j39pgbzn19v2b0d203153jqh0000gn/T/ipykernel_85626/3191462361.py:3: FutureWarning: \n",
      "\n",
      "The `ci` parameter is deprecated. Use `errorbar=('ci', 95)` for the same effect.\n",
      "\n",
      "  sns.barplot(x='group', y='click', data=data, ci=95)\n"
     ]
    },
    {
     "data": {
      "image/png": "[encoded data removed]",
      "text/plain": [
       "<Figure size 640x480 with 1 Axes>"
      ]
     },
     "metadata": {},
     "output_type": "display_data"
    }
   ],
   "source": [
    "# 3. Визуализация\n",
    "\n",
    "sns.barplot(x='group', y='click', data=data, ci=95)\n",
    "plt.title(\"Конверсии по группам\")\n",
    "plt.ylabel(\"Конверсия\")\n",
    "plt.show()"
   ]
  },
  {
   "cell_type": "code",
   "execution_count": 68,
   "id": "a903e012-092d-4e88-b6fa-cf1cace2b955",
   "metadata": {},
   "outputs": [
    {
     "name": "stdout",
     "output_type": "stream",
     "text": [
      "\n",
      "T-статистика: 1.7427\n",
      "p-value: 0.0814\n"
     ]
    }
   ],
   "source": [
    "\n",
    "# 4. Проверка гипотезы (t-тест)\n",
    "\n",
    "# H0: Конверсии равны\n",
    "# H1: Конверсии разные\n",
    "\n",
    "# Отдельно по группам\n",
    "clicks_A = data[data['group'] == 'A']['click']\n",
    "clicks_B = data[data['group'] == 'B']['click']\n",
    "\n",
    "# T-тест для независимых выборок\n",
    "stat, p_value = stats.ttest_ind(clicks_B, clicks_A)\n",
    "\n",
    "print(f\"\\nT-статистика: {stat:.4f}\")\n",
    "print(f\"p-value: {p_value:.4f}\")"
   ]
  },
  {
   "cell_type": "code",
   "execution_count": 70,
   "id": "8b8a7f9e-2f76-49b6-8371-8d5a4cee702a",
   "metadata": {},
   "outputs": [
    {
     "name": "stdout",
     "output_type": "stream",
     "text": [
      "\n",
      "❌ Нет статистически значимой разницы. Новая кнопка не лучше текущей.\n"
     ]
    }
   ],
   "source": [
    "# 5. Вывод\n",
    "\n",
    "alpha = 0.05\n",
    "if p_value < alpha:\n",
    "    print(\"\\n✅ Результат статистически значим. Новая кнопка действительно лучше.\")\n",
    "else:\n",
    "    print(\"\\n❌ Нет статистически значимой разницы. Новая кнопка не лучше текущей.\")"
   ]
  },
  {
   "cell_type": "code",
   "execution_count": null,
   "id": "46584136-e849-4f97-ba9b-e7d961f28c1a",
   "metadata": {},
   "outputs": [],
   "source": []
  }
 ],
 "metadata": {
  "kernelspec": {
   "display_name": "Python [conda env:base] *",
   "language": "python",
   "name": "conda-base-py"
  },
  "language_info": {
   "codemirror_mode": {
    "name": "ipython",
    "version": 3
   },
   "file_extension": ".py",
   "mimetype": "text/x-python",
   "name": "python",
   "nbconvert_exporter": "python",
   "pygments_lexer": "ipython3",
   "version": "3.12.7"
  }
 },
 "nbformat": 4,
 "nbformat_minor": 5
}
